{
 "cells": [
  {
   "cell_type": "code",
   "execution_count": null,
   "metadata": {},
   "outputs": [],
   "source": [
    "import pandas as pd\n",
    "\n",
    "# Definir el orden estándar de las columnas que debería tener el DataFrame final\n",
    "columnas_estandar = [\n",
    "    'DEPARTAMENTO', 'MUNICIPIO', 'CODIGO DANE', 'ARMA MEDIO', \n",
    "    'FECHA HECHO', 'GENERO', 'AGRUPA EDAD', 'CANTIDAD'\n",
    "]\n",
    "\n",
    "def cargar_y_reordenar_csv(archivo, columnas_estandar):\n",
    "    df = pd.read_csv(archivo)\n",
    "    df = df.reindex(columns=columnas_estandar)\n",
    "    return df\n",
    "\n",
    "archivos = [\"2017.csv\", \"2018.csv\", \"2019.csv\", \"2020.csv\", \"2021.csv\", \"2022.csv\", \"2023.csv\", \"2024.csv\"]\n",
    "dfs = [cargar_y_reordenar_csv(archivo, columnas_estandar) for archivo in archivos]\n",
    "\n",
    "df_total = pd.concat(dfs, ignore_index=True)\n",
    "df_total['CANTIDAD'] = df_total['CANTIDAD'].fillna(1)\n",
    "df_bolivar = df_total[df_total['DEPARTAMENTO'].str.upper() == 'BOLÍVAR']\n",
    "df_bolivar['CANTIDAD'] = pd.to_numeric(df_bolivar['CANTIDAD'], errors='coerce')\n",
    "df_bolivar['MUNICIPIO'] = df_bolivar['MUNICIPIO'].str.upper()\n",
    "df_bolivar.loc[:, 'FECHA HECHO'] = pd.to_datetime(df_bolivar['FECHA HECHO'], dayfirst=True, errors='coerce')\n",
    "df_bolivar.to_parquet('homicidios_bolivar.parquet', index=False)\n",
    "\n"
   ]
  }
 ],
 "metadata": {
  "kernelspec": {
   "display_name": "Python 3",
   "language": "python",
   "name": "python3"
  },
  "language_info": {
   "codemirror_mode": {
    "name": "ipython",
    "version": 3
   },
   "file_extension": ".py",
   "mimetype": "text/x-python",
   "name": "python",
   "nbconvert_exporter": "python",
   "pygments_lexer": "ipython3",
   "version": "3.12.2"
  }
 },
 "nbformat": 4,
 "nbformat_minor": 2
}
